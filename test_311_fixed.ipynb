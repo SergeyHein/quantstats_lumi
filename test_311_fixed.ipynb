{
 "cells": [
  {
   "cell_type": "markdown",
   "metadata": {},
   "source": [
    "# Test evidence\n",
    "\n",
    "[plot_timeseries does not handle types properly](https://github.com/Lumiwealth/quantstats_lumi/issues/61#issuecomment-2392127437)\n",
    "\n",
    "Table below provide traceability of issues\n",
    "\n",
    "| version | method | input type | status |\n",
    "| --- | --- | --- | --- |\n",
    "| [issues-61](https://github.com/SergeyHein/quantstats_lumi/tree/issues-61)     | [plot_timeseries](https://github.com/SergeyHein/quantstats_lumi/blob/issues-61/quantstats_lumi/_plotting/core.py)  | pd.Series |<span style=\"color:green; font-weight:bold;\">OK</span> |\n",
    "| [issues-61](https://github.com/SergeyHein/quantstats_lumi/tree/issues-61)     | [plot_timeseries](https://github.com/SergeyHein/quantstats_lumi/blob/issues-61/quantstats_lumi/_plotting/core.py)  | pd.DataFrame | <span style=\"color:red; font-weight:bold;\">ERROR</span> |\n",
    "| [issues-61](https://github.com/SergeyHein/quantstats_lumi/tree/issues-61)     | [reports.full](https://github.com/SergeyHein/quantstats_lumi/blob/issues-61/quantstats_lumi/reports.py)  | pd.Series |<span style=\"color:green; font-weight:bold;\">ERROR</span> |\n",
    "| [issues-61](https://github.com/SergeyHein/quantstats_lumi/tree/issues-61)     | [reports.full](https://github.com/SergeyHein/quantstats_lumi/blob/issues-61/quantstats_lumi/reports.py)  | pd.DataFrame | <span style=\"color:red; font-weight:bold;\">ERROR</span> |\n",
    "  "
   ]
  },
  {
   "cell_type": "code",
   "execution_count": null,
   "metadata": {},
   "outputs": [],
   "source": [
    "# suppress warnings\n",
    "import warnings\n",
    "warnings.filterwarnings('ignore')\n",
    "from numpy import sqrt\n",
    "import pandas as pd\n",
    "import quantstats_lumi as qs\n",
    "from quantstats_lumi._plotting.core import plot_timeseries\n",
    "from quantstats_lumi.reports import full\n",
    "from sys import version_info\n",
    "\n",
    "\n",
    "import subprocess\n",
    "import numpy as np\n",
    "\n",
    "print(\"Python version: \", version_info)\n",
    "print(\"Pandas version: \", pd.__version__)\n",
    "print(\"Numpy version: \", np.__version__)\n",
    "print(\"quantstats_lumi version: \", qs.__version__)\n",
    "\n",
    "# get git sha1\n",
    "sha1 = subprocess.check_output(['git', 'rev-parse', 'HEAD']).decode('ascii').strip()\n",
    "status = subprocess.check_output(['git', 'status']).decode('ascii').strip()\n",
    "print(\"Git SHA1: \", sha1)\n",
    "print(\"Status: \", status)\n"
   ]
  },
  {
   "cell_type": "code",
   "execution_count": 8,
   "metadata": {},
   "outputs": [],
   "source": [
    "# generate some random stock returns for testing purposes\n",
    "np.random.seed(42)\n",
    "trading_days = 1000\n",
    "strategy_s = pd.Series(np.random.normal(0.11/252, 0.09/sqrt(252), trading_days), name='Strategy')\n",
    "benchmark_s = pd.Series(np.random.normal(0.1/252, 0.1/sqrt(252), trading_days), name='Benchmark')\n",
    "# generate 1000 week days starting from 2010-01-01\n",
    "dates = pd.date_range('2010-01-01', periods=trading_days, freq='B')\n",
    "strategy_s.index = dates\n",
    "benchmark_s.index = dates\n",
    "strategy_df = pd.DataFrame(strategy_s)\n",
    "benchmark_df = pd.DataFrame(benchmark_s)\n"
   ]
  },
  {
   "cell_type": "code",
   "execution_count": null,
   "metadata": {},
   "outputs": [],
   "source": [
    "plot_timeseries(strategy_s, benchmark_s, compound=True,title=\"Strategy vs Benchmark\") # use pd.Series"
   ]
  },
  {
   "cell_type": "code",
   "execution_count": null,
   "metadata": {},
   "outputs": [],
   "source": [
    "full(strategy_s, benchmark_s, title=\"Strategy vs Benchmark\") # pd.Series"
   ]
  },
  {
   "cell_type": "code",
   "execution_count": null,
   "metadata": {},
   "outputs": [],
   "source": [
    "plot_timeseries(strategy_df, benchmark_df, compound=True, title=\"Strategy vs Benchmark\") # use pd.DataFrames"
   ]
  },
  {
   "cell_type": "code",
   "execution_count": null,
   "metadata": {},
   "outputs": [],
   "source": [
    "full(strategy_df, benchmark_df, title=\"Strategy vs Benchmark\") # use DataFrames"
   ]
  },
  {
   "cell_type": "markdown",
   "metadata": {},
   "source": []
  },
  {
   "cell_type": "code",
   "execution_count": null,
   "metadata": {},
   "outputs": [],
   "source": []
  }
 ],
 "metadata": {
  "kernelspec": {
   "display_name": "3.11",
   "language": "python",
   "name": "python3"
  },
  "language_info": {
   "codemirror_mode": {
    "name": "ipython",
    "version": 3
   },
   "file_extension": ".py",
   "mimetype": "text/x-python",
   "name": "python",
   "nbconvert_exporter": "python",
   "pygments_lexer": "ipython3",
   "version": "3.11.9"
  }
 },
 "nbformat": 4,
 "nbformat_minor": 2
}
